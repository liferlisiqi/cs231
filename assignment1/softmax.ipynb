{
 "cells": [
  {
   "cell_type": "markdown",
   "metadata": {},
   "source": [
    "# Softmax exercise\n",
    "\n",
    "*Complete and hand in this completed worksheet (including its outputs and any supporting code outside of the worksheet) with your assignment submission. For more details see the [assignments page](http://vision.stanford.edu/teaching/cs231n/assignments.html) on the course website.*\n",
    "\n",
    "This exercise is analogous to the SVM exercise. You will:\n",
    "\n",
    "- implement a fully-vectorized **loss function** for the Softmax classifier\n",
    "- implement the fully-vectorized expression for its **analytic gradient**\n",
    "- **check your implementation** with numerical gradient\n",
    "- use a validation set to **tune the learning rate and regularization** strength\n",
    "- **optimize** the loss function with **SGD**\n",
    "- **visualize** the final learned weights\n"
   ]
  },
  {
   "cell_type": "code",
   "execution_count": 11,
   "metadata": {},
   "outputs": [
    {
     "name": "stdout",
     "output_type": "stream",
     "text": [
      "The autoreload extension is already loaded. To reload it, use:\n",
      "  %reload_ext autoreload\n"
     ]
    }
   ],
   "source": [
    "import random\n",
    "import numpy as np\n",
    "from cs231n.data_utils import load_CIFAR10\n",
    "import matplotlib.pyplot as plt\n",
    "\n",
    "from __future__ import print_function\n",
    "\n",
    "%matplotlib inline\n",
    "plt.rcParams['figure.figsize'] = (10.0, 8.0) # set default size of plots\n",
    "plt.rcParams['image.interpolation'] = 'nearest'\n",
    "plt.rcParams['image.cmap'] = 'gray'\n",
    "\n",
    "# for auto-reloading extenrnal modules\n",
    "# see http://stackoverflow.com/questions/1907993/autoreload-of-modules-in-ipython\n",
    "%load_ext autoreload\n",
    "%autoreload 2"
   ]
  },
  {
   "cell_type": "code",
   "execution_count": 12,
   "metadata": {},
   "outputs": [
    {
     "name": "stdout",
     "output_type": "stream",
     "text": [
      "Train data shape:  (49000, 3073)\n",
      "Train labels shape:  (49000,)\n",
      "Validation data shape:  (1000, 3073)\n",
      "Validation labels shape:  (1000,)\n",
      "Test data shape:  (1000, 3073)\n",
      "Test labels shape:  (1000,)\n",
      "dev data shape:  (500, 3073)\n",
      "dev labels shape:  (500,)\n"
     ]
    }
   ],
   "source": [
    "def get_CIFAR10_data(num_training=49000, num_validation=1000, num_test=1000, num_dev=500):\n",
    "    \"\"\"\n",
    "    Load the CIFAR-10 dataset from disk and perform preprocessing to prepare\n",
    "    it for the linear classifier. These are the same steps as we used for the\n",
    "    SVM, but condensed to a single function.  \n",
    "    \"\"\"\n",
    "    # Load the raw CIFAR-10 data\n",
    "    cifar10_dir = 'cs231n/datasets/cifar-10-batches-py'\n",
    "    X_train, y_train, X_test, y_test = load_CIFAR10(cifar10_dir)\n",
    "    \n",
    "    # subsample the data\n",
    "    mask = list(range(num_training, num_training + num_validation))\n",
    "    X_val = X_train[mask]\n",
    "    y_val = y_train[mask]\n",
    "    mask = list(range(num_training))\n",
    "    X_train = X_train[mask]\n",
    "    y_train = y_train[mask]\n",
    "    mask = list(range(num_test))\n",
    "    X_test = X_test[mask]\n",
    "    y_test = y_test[mask]\n",
    "    mask = np.random.choice(num_training, num_dev, replace=False)\n",
    "    X_dev = X_train[mask]\n",
    "    y_dev = y_train[mask]\n",
    "    \n",
    "    # Preprocessing: reshape the image data into rows\n",
    "    X_train = np.reshape(X_train, (X_train.shape[0], -1))\n",
    "    X_val = np.reshape(X_val, (X_val.shape[0], -1))\n",
    "    X_test = np.reshape(X_test, (X_test.shape[0], -1))\n",
    "    X_dev = np.reshape(X_dev, (X_dev.shape[0], -1))\n",
    "    \n",
    "    # Normalize the data: subtract the mean image\n",
    "    mean_image = np.mean(X_train, axis = 0)\n",
    "    X_train -= mean_image\n",
    "    X_val -= mean_image\n",
    "    X_test -= mean_image\n",
    "    X_dev -= mean_image\n",
    "    \n",
    "    # add bias dimension and transform into columns\n",
    "    X_train = np.hstack([X_train, np.ones((X_train.shape[0], 1))])\n",
    "    X_val = np.hstack([X_val, np.ones((X_val.shape[0], 1))])\n",
    "    X_test = np.hstack([X_test, np.ones((X_test.shape[0], 1))])\n",
    "    X_dev = np.hstack([X_dev, np.ones((X_dev.shape[0], 1))])\n",
    "    \n",
    "    return X_train, y_train, X_val, y_val, X_test, y_test, X_dev, y_dev\n",
    "\n",
    "\n",
    "# Invoke the above function to get our data.\n",
    "X_train, y_train, X_val, y_val, X_test, y_test, X_dev, y_dev = get_CIFAR10_data()\n",
    "print('Train data shape: ', X_train.shape)\n",
    "print('Train labels shape: ', y_train.shape)\n",
    "print('Validation data shape: ', X_val.shape)\n",
    "print('Validation labels shape: ', y_val.shape)\n",
    "print('Test data shape: ', X_test.shape)\n",
    "print('Test labels shape: ', y_test.shape)\n",
    "print('dev data shape: ', X_dev.shape)\n",
    "print('dev labels shape: ', y_dev.shape)"
   ]
  },
  {
   "cell_type": "markdown",
   "metadata": {},
   "source": [
    "## Softmax Classifier\n",
    "\n",
    "Your code for this section will all be written inside **cs231n/classifiers/softmax.py**. \n"
   ]
  },
  {
   "cell_type": "code",
   "execution_count": 13,
   "metadata": {},
   "outputs": [
    {
     "name": "stdout",
     "output_type": "stream",
     "text": [
      "loss: 2.469868\n",
      "sanity check: 2.302585\n"
     ]
    }
   ],
   "source": [
    "# First implement the naive softmax loss function with nested loops.\n",
    "# Open the file cs231n/classifiers/softmax.py and implement the\n",
    "# softmax_loss_naive function.\n",
    "\n",
    "from cs231n.classifiers.softmax import softmax_loss_naive\n",
    "import time\n",
    "\n",
    "# Generate a random softmax weight matrix and use it to compute the loss.\n",
    "W = np.random.randn(3073, 10) * 0.0001\n",
    "loss, grad = softmax_loss_naive(W, X_dev, y_dev, 0.0)\n",
    "\n",
    "# As a rough sanity check, our loss should be something close to -log(0.1).\n",
    "print('loss: %f' % loss)\n",
    "print('sanity check: %f' % (-np.log(0.1)))"
   ]
  },
  {
   "cell_type": "markdown",
   "metadata": {},
   "source": [
    "## Inline Question 1:\n",
    "Why do we expect our loss to be close to -log(0.1)? Explain briefly.**\n",
    "\n",
    "**Your answer:** *Fill this in*\n"
   ]
  },
  {
   "cell_type": "code",
   "execution_count": 14,
   "metadata": {},
   "outputs": [
    {
     "name": "stdout",
     "output_type": "stream",
     "text": [
      "numerical: -6.743396 analytic: -6.743396, relative error: 8.024277e-09\n",
      "numerical: -3.407921 analytic: -3.407921, relative error: 2.962912e-09\n",
      "numerical: -2.284519 analytic: -2.284519, relative error: 6.081244e-10\n",
      "numerical: -1.819679 analytic: -1.819679, relative error: 6.230864e-09\n",
      "numerical: 4.848544 analytic: 4.848544, relative error: 1.222881e-08\n",
      "numerical: 4.474065 analytic: 4.474065, relative error: 1.601708e-08\n",
      "numerical: -1.089150 analytic: -1.089150, relative error: 2.762277e-08\n",
      "numerical: 2.798860 analytic: 2.798860, relative error: 3.496456e-08\n",
      "numerical: -1.270102 analytic: -1.270102, relative error: 1.832145e-08\n",
      "numerical: -2.869930 analytic: -2.869930, relative error: 1.340943e-08\n",
      "numerical: 1.595443 analytic: 1.595443, relative error: 5.574796e-08\n",
      "numerical: -1.027915 analytic: -1.027915, relative error: 1.334141e-08\n",
      "numerical: -1.316518 analytic: -1.316518, relative error: 4.481204e-08\n",
      "numerical: -5.165899 analytic: -5.165899, relative error: 2.668048e-09\n",
      "numerical: 1.493282 analytic: 1.493282, relative error: 2.347129e-08\n",
      "numerical: 1.051853 analytic: 1.051853, relative error: 5.941606e-08\n",
      "numerical: -0.340336 analytic: -0.340336, relative error: 1.222197e-07\n",
      "numerical: 0.288016 analytic: 0.288016, relative error: 1.596202e-07\n",
      "numerical: 0.087962 analytic: 0.087962, relative error: 3.456265e-07\n",
      "numerical: 2.045124 analytic: 2.045124, relative error: 4.303250e-08\n"
     ]
    }
   ],
   "source": [
    "# Complete the implementation of softmax_loss_naive and implement a (naive)\n",
    "# version of the gradient that uses nested loops.\n",
    "loss, grad = softmax_loss_naive(W, X_dev, y_dev, 0.0)\n",
    "\n",
    "# As we did for the SVM, use numeric gradient checking as a debugging tool.\n",
    "# The numeric gradient should be close to the analytic gradient.\n",
    "from cs231n.gradient_check import grad_check_sparse\n",
    "f = lambda w: softmax_loss_naive(w, X_dev, y_dev, 0.0)[0]\n",
    "grad_numerical = grad_check_sparse(f, W, grad, 10)\n",
    "\n",
    "# similar to SVM case, do another gradient check with regularization\n",
    "loss, grad = softmax_loss_naive(W, X_dev, y_dev, 5e1)\n",
    "f = lambda w: softmax_loss_naive(w, X_dev, y_dev, 5e1)[0]\n",
    "grad_numerical = grad_check_sparse(f, W, grad, 10)"
   ]
  },
  {
   "cell_type": "code",
   "execution_count": 17,
   "metadata": {},
   "outputs": [
    {
     "name": "stdout",
     "output_type": "stream",
     "text": [
      "iteration 0 / 1500: loss 0.000000\n",
      "iteration 100 / 1500: loss 0.000000\n",
      "iteration 200 / 1500: loss 0.000000\n",
      "iteration 300 / 1500: loss 0.000000\n",
      "iteration 400 / 1500: loss 0.000000\n",
      "iteration 500 / 1500: loss 0.000000\n",
      "iteration 600 / 1500: loss 0.000000\n",
      "iteration 700 / 1500: loss 0.000000\n",
      "iteration 800 / 1500: loss 0.000000\n",
      "iteration 900 / 1500: loss 0.000000\n",
      "iteration 1000 / 1500: loss 0.000000\n",
      "iteration 1100 / 1500: loss 0.000000\n",
      "iteration 1200 / 1500: loss 0.000000\n",
      "iteration 1300 / 1500: loss 0.000000\n",
      "iteration 1400 / 1500: loss 0.000000\n",
      "iteration 0 / 1500: loss 0.000000\n",
      "iteration 100 / 1500: loss 0.000000\n",
      "iteration 200 / 1500: loss 0.000000\n",
      "iteration 300 / 1500: loss 0.000000\n",
      "iteration 400 / 1500: loss 0.000000\n",
      "iteration 500 / 1500: loss 0.000000\n",
      "iteration 600 / 1500: loss 0.000000\n",
      "iteration 700 / 1500: loss 0.000000\n",
      "iteration 800 / 1500: loss 0.000000\n",
      "iteration 900 / 1500: loss 0.000000\n",
      "iteration 1000 / 1500: loss 0.000000\n",
      "iteration 1100 / 1500: loss 0.000000\n",
      "iteration 1200 / 1500: loss 0.000000\n",
      "iteration 1300 / 1500: loss 0.000000\n",
      "iteration 1400 / 1500: loss 0.000000\n",
      "iteration 0 / 1500: loss 0.000000\n",
      "iteration 100 / 1500: loss 0.000000\n",
      "iteration 200 / 1500: loss 0.000000\n",
      "iteration 300 / 1500: loss 0.000000\n",
      "iteration 400 / 1500: loss 0.000000\n",
      "iteration 500 / 1500: loss 0.000000\n",
      "iteration 600 / 1500: loss 0.000000\n",
      "iteration 700 / 1500: loss 0.000000\n",
      "iteration 800 / 1500: loss 0.000000\n",
      "iteration 900 / 1500: loss 0.000000\n",
      "iteration 1000 / 1500: loss 0.000000\n",
      "iteration 1100 / 1500: loss 0.000000\n",
      "iteration 1200 / 1500: loss 0.000000\n",
      "iteration 1300 / 1500: loss 0.000000\n",
      "iteration 1400 / 1500: loss 0.000000\n",
      "iteration 0 / 1500: loss 0.000000\n",
      "iteration 100 / 1500: loss 0.000000\n",
      "iteration 200 / 1500: loss 0.000000\n",
      "iteration 300 / 1500: loss 0.000000\n",
      "iteration 400 / 1500: loss 0.000000\n",
      "iteration 500 / 1500: loss 0.000000\n",
      "iteration 600 / 1500: loss 0.000000\n",
      "iteration 700 / 1500: loss 0.000000\n",
      "iteration 800 / 1500: loss 0.000000\n",
      "iteration 900 / 1500: loss 0.000000\n",
      "iteration 1000 / 1500: loss 0.000000\n",
      "iteration 1100 / 1500: loss 0.000000\n",
      "iteration 1200 / 1500: loss 0.000000\n",
      "iteration 1300 / 1500: loss 0.000000\n",
      "iteration 1400 / 1500: loss 0.000000\n",
      "lr 1.000000e-07 reg 2.500000e+04 train accuracy: 0.085816 val accuracy: 0.104000\n",
      "lr 1.000000e-07 reg 5.000000e+04 train accuracy: 0.101082 val accuracy: 0.093000\n",
      "lr 5.000000e-07 reg 2.500000e+04 train accuracy: 0.111082 val accuracy: 0.109000\n",
      "lr 5.000000e-07 reg 5.000000e+04 train accuracy: 0.091939 val accuracy: 0.086000\n",
      "best validation accuracy achieved during cross-validation: 0.109000\n"
     ]
    }
   ],
   "source": [
    "# Use the validation set to tune hyperparameters (regularization strength and\n",
    "# learning rate). You should experiment with different ranges for the learning\n",
    "# rates and regularization strengths; if you are careful you should be able to\n",
    "# get a classification accuracy of over 0.35 on the validation set.\n",
    "from cs231n.classifiers import Softmax\n",
    "results = {}\n",
    "best_val = -1\n",
    "best_softmax = None\n",
    "learning_rates = [1e-7, 5e-7]\n",
    "regularization_strengths = [2.5e4, 5e4]\n",
    "\n",
    "################################################################################\n",
    "# TODO:                                                                        #\n",
    "# Use the validation set to set the learning rate and regularization strength. #\n",
    "# This should be identical to the validation that you did for the SVM; save    #\n",
    "# the best trained softmax classifer in best_softmax.                          #\n",
    "################################################################################\n",
    "from cs231n.classifiers.linear_classifier import Softmax\n",
    "for lr in learning_rates:\n",
    "    for reg in regularization_strengths:\n",
    "        softmax = Softmax()\n",
    "        loss_hist = softmax.train(X_train, y_train, lr, reg, num_iters=1500, verbose=True)\n",
    "        y_train_pred = softmax.predict(X_train)\n",
    "        train_accuracy = np.mean(y_train == y_train_pred)\n",
    "        y_val_pred = softmax.predict(X_val)\n",
    "        val_accuracy = np.mean(y_val == y_val_pred)\n",
    "        results[(lr,reg)] = [train_accuracy, val_accuracy]\n",
    "        if val_accuracy > best_val:\n",
    "            best_val = val_accuracy\n",
    "            best_softmax = softmax\n",
    "################################################################################\n",
    "#                              END OF YOUR CODE                                #\n",
    "################################################################################\n",
    "    \n",
    "# Print out results.\n",
    "for lr, reg in sorted(results):\n",
    "    train_accuracy, val_accuracy = results[(lr, reg)]\n",
    "    print('lr %e reg %e train accuracy: %f val accuracy: %f' % (\n",
    "                lr, reg, train_accuracy, val_accuracy))\n",
    "    \n",
    "print('best validation accuracy achieved during cross-validation: %f' % best_val)"
   ]
  },
  {
   "cell_type": "code",
   "execution_count": 18,
   "metadata": {},
   "outputs": [
    {
     "name": "stdout",
     "output_type": "stream",
     "text": [
      "softmax on raw pixels final test set accuracy: 0.117000\n"
     ]
    }
   ],
   "source": [
    "# evaluate on test set\n",
    "# Evaluate the best softmax on test set\n",
    "y_test_pred = best_softmax.predict(X_test)\n",
    "test_accuracy = np.mean(y_test == y_test_pred)\n",
    "print('softmax on raw pixels final test set accuracy: %f' % (test_accuracy, ))"
   ]
  },
  {
   "cell_type": "code",
   "execution_count": 19,
   "metadata": {},
   "outputs": [
    {
     "data": {
      "image/png": "[encoded data removed]",
      "text/plain": [
       "<matplotlib.figure.Figure at 0x7fe2620fd210>"
      ]
     },
     "metadata": {},
     "output_type": "display_data"
    }
   ],
   "source": [
    "# Visualize the learned weights for each class\n",
    "w = best_softmax.W[:-1,:] # strip out the bias\n",
    "w = w.reshape(32, 32, 3, 10)\n",
    "\n",
    "w_min, w_max = np.min(w), np.max(w)\n",
    "\n",
    "classes = ['plane', 'car', 'bird', 'cat', 'deer', 'dog', 'frog', 'horse', 'ship', 'truck']\n",
    "for i in range(10):\n",
    "    plt.subplot(2, 5, i + 1)\n",
    "    \n",
    "    # Rescale the weights to be between 0 and 255\n",
    "    wimg = 255.0 * (w[:, :, :, i].squeeze() - w_min) / (w_max - w_min)\n",
    "    plt.imshow(wimg.astype('uint8'))\n",
    "    plt.axis('off')\n",
    "    plt.title(classes[i])"
   ]
  }
 ],
 "metadata": {
  "kernelspec": {
   "display_name": "Python 2",
   "language": "python",
   "name": "python2"
  },
  "language_info": {
   "codemirror_mode": {
    "name": "ipython",
    "version": 2
   },
   "file_extension": ".py",
   "mimetype": "text/x-python",
   "name": "python",
   "nbconvert_exporter": "python",
   "pygments_lexer": "ipython2",
   "version": "2.7.12"
  }
 },
 "nbformat": 4,
 "nbformat_minor": 1
}
